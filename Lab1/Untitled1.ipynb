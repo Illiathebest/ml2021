{
  "cells": [
    {
      "cell_type": "markdown",
      "metadata": {
        "id": "s5d_LRLhu7uP"
      },
      "source": [
        "NumPy (створити набір даних (розмір за власним рішенням), провести CRUD операції над даними (скаляр, вектор, матриця)). Використати arange, random."
      ]
    },
    {
      "cell_type": "code",
      "execution_count": 4,
      "metadata": {
        "colab": {
          "base_uri": "https://localhost:8080/"
        },
        "id": "YRe9IcqYu2MJ",
        "outputId": "15e03138-3d53-4552-d320-0c89a8830a98"
      },
      "outputs": [
        {
          "name": "stdout",
          "output_type": "stream",
          "text": [
            "Первая задача\n",
            "\n",
            "введите несколько переменных для массива (massiveange, random.randint, append, eye, eye delete)\n",
            "[5 8 9 4]\n",
            "[5]\n",
            "[7 7 5 5 5 6 5 6 5]\n",
            "[5 8 9 4 5]\n",
            "[[1. 0. 0. 0.]\n",
            " [0. 1. 0. 0.]\n",
            " [0. 0. 1. 0.]\n",
            " [0. 0. 0. 1.]]\n",
            "[[1. 0. 0. 0.]\n",
            " [0. 1. 0. 0.]\n",
            " [0. 0. 1. 0.]]\n",
            "некоторые операции со скаляром (multiply, power)\n",
            "[3.  4.8 5.4 2.4]\n",
            "[125]\n",
            "некоторые операции с вектором (add, subtract)\n",
            "[128.  129.8 130.4 127.4]\n",
            "[-122.  -120.2 -119.6 -122.6]\n"
          ]
        }
      ],
      "source": [
        "print(\"Перша задача\", end=\"\\n\\n\")\n",
        "import numpy as np\n",
        "print(\"введіть декілька змінних для масива (massiveange, random.randint, append, eye, eye delete)\")\n",
        "\n",
        "massive1 = np.array([5, 8, 9, 4])\n",
        "print(massive1)\n",
        "\n",
        "massive2 = np.arange(5, 8, 9)\n",
        "print(massive2)\n",
        "\n",
        "massive3 = np.random.randint(5, 8, 9)\n",
        "print(massive3)\n",
        "\n",
        "massive4 = np.append(massive1, massive2)\n",
        "print(massive4)\n",
        "\n",
        "massive_eye = np.eye(4)\n",
        "print(massive_eye)\n",
        "\n",
        "massive_eye = np.delete(massive_eye, 3, 0)\n",
        "print(massive_eye)\n",
        "\n",
        "print(\"деякі операції зі скаляром (multiply, power)\")\n",
        "\n",
        "massive1 = np.multiply(massive1, 0.6)\n",
        "print(massive1)\n",
        "massive2 = np.power(massive2, 3)\n",
        "print(massive2)\n",
        "\n",
        "print(\"деякі операції зі вектором (add, subtract)\")\n",
        "massive_common = np.add(massive1,massive2)\n",
        "massive_common1 = np.subtract(massive1,massive2)\n",
        "print(massive_common)\n",
        "print(massive_common1)\n"
      ]
    },
    {
      "cell_type": "code",
      "execution_count": 7,
      "metadata": {
        "colab": {
          "base_uri": "https://localhost:8080/",
          "height": 1000,
          "resources": {
            "http://localhost:8080/nbextensions/google.colab/files.js": {
              "data": "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",
              "headers": [
                [
                  "content-type",
                  "application/javascript"
                ]
              ],
              "ok": true,
              "status": 200,
              "status_text": ""
            }
          }
        },
        "id": "MgsQjSwbvBMl",
        "outputId": "38179632-060b-4bba-c094-8fb9be91405f"
      },
      "outputs": [
        {
          "data": {
            "text/html": [
              "\n",
              "     <input type=\"file\" id=\"files-85e02a90-6731-429e-9676-a96062d32a7d\" name=\"files[]\" multiple disabled\n",
              "        style=\"border:none\" />\n",
              "     <output id=\"result-85e02a90-6731-429e-9676-a96062d32a7d\">\n",
              "      Upload widget is only available when the cell has been executed in the\n",
              "      current browser session. Please rerun this cell to enable.\n",
              "      </output>\n",
              "      <script src=\"/nbextensions/google.colab/files.js\"></script> "
            ],
            "text/plain": [
              "<IPython.core.display.HTML object>"
            ]
          },
          "metadata": {},
          "output_type": "display_data"
        },
        {
          "name": "stdout",
          "output_type": "stream",
          "text": [
            "Saving data.csv to data (2).csv\n",
            "Вторая задача\n",
            "\n",
            "Первый способ\n",
            "   1  2  3  3  5\n",
            "0  0  8  8  9  7\n",
            "1  5  9  8  5  9\n",
            "2  5  9  1  0  7\n",
            "3  7  3  2  1  3\n",
            "4  1  7  6  0  6\n",
            "              1        2         3         3        5\n",
            "count  5.000000  5.00000  5.000000  5.000000  5.00000\n",
            "mean   3.600000  7.20000  5.000000  3.000000  6.40000\n",
            "std    2.966479  2.48998  3.316625  3.937004  2.19089\n",
            "min    0.000000  3.00000  1.000000  0.000000  3.00000\n",
            "25%    1.000000  7.00000  2.000000  0.000000  6.00000\n",
            "50%    5.000000  8.00000  6.000000  1.000000  7.00000\n",
            "75%    5.000000  9.00000  8.000000  5.000000  7.00000\n",
            "max    7.000000  9.00000  8.000000  9.000000  9.00000\n",
            "Второй способ\n",
            "       target}c1}c2}c3}c4}c5}c6}c7}c8}c9}c10}c11}c12}c13\n",
            "0      0.0}0.6}3.848024360038754}-0.12489928599664912...\n",
            "1      0.0}-9999.0}3.686711750399645}2.74655798653025...\n",
            "2      1.0}0.6}1.7903405757001267}-0.3791833083216618...\n",
            "3      0.0}0.3}2.1368573082176185}1.8436547163343175}...\n",
            "4      0.0}0.3}3.3008362240888207}1.492122687471352}-...\n",
            "...                                                  ...\n",
            "20475  0.0}0.3}2.670271056922146}0.7323285733291551}-...\n",
            "20476  0.0}0.6}1.1466802719231954}-0.5408210211188664...\n",
            "20477  1.0}0.6}2.05839021349065}1.2383374919269454}-4...\n",
            "20478  0.0}0.5}1.8848722052429505}-1.8285430840274677...\n",
            "20479  0.0}0.1}2.220669079437121}2.0371435060663297}-...\n",
            "\n",
            "[20480 rows x 1 columns]\n",
            "\n",
            "   target}c1}c2}c3}c4}c5}c6}c7}c8}c9}c10}c11}c12}c13\n",
            "0  0.0}0.6}3.848024360038754}-0.12489928599664912...\n",
            "1  0.0}-9999.0}3.686711750399645}2.74655798653025...\n",
            "2  1.0}0.6}1.7903405757001267}-0.3791833083216618...\n",
            "3  0.0}0.3}2.1368573082176185}1.8436547163343175}...\n",
            "4  0.0}0.3}3.3008362240888207}1.492122687471352}-...\n",
            "\n",
            "        target}c1}c2}c3}c4}c5}c6}c7}c8}c9}c10}c11}c12}c13\n",
            "count                                               20480\n",
            "unique                                              20480\n",
            "top     _}-9999.0}2.804961886866725}2.0326684374225654...\n",
            "freq                                                    1\n",
            "\n",
            "<class 'pandas.core.frame.DataFrame'>\n",
            "RangeIndex: 20480 entries, 0 to 20479\n",
            "Data columns (total 1 columns):\n",
            " #   Column                                             Non-Null Count  Dtype \n",
            "---  ------                                             --------------  ----- \n",
            " 0   target}c1}c2}c3}c4}c5}c6}c7}c8}c9}c10}c11}c12}c13  20480 non-null  object\n",
            "dtypes: object(1)\n",
            "memory usage: 160.1+ KB\n",
            "None\n",
            "\n",
            "target}c1}c2}c3}c4}c5}c6}c7}c8}c9}c10}c11}c12}c13    1.0}0.6}1.7903405757001267}-0.3791833083216618...\n",
            "Name: 2, dtype: object\n",
            "target}c1}c2}c3}c4}c5}c6}c7}c8}c9}c10}c11}c12}c13    NaN\n",
            "Name: 2, dtype: object\n",
            "\n",
            "Третий способ\n",
            "       a     b      c     d\n",
            "a1   one   two  three  four\n",
            "b2   100   200    300   400\n",
            "c3  1000  2000   3000  4000\n",
            "\n",
            "       a     b      c     d\n",
            "a1   one   two  three  four\n",
            "c3  1000  2000   3000  4000\n",
            "\n",
            "       a     b      c     d\n",
            "a1   one   two  three  four\n",
            "c3  1000  2000   3000  4000\n",
            "\n",
            "       a     b     c     d\n",
            "c3  1000  2000  3000  4000\n",
            "\n"
          ]
        }
      ],
      "source": [
        "from google.colab import files\n",
        "files.upload()\n",
        "print(\"Друга задача\", end=\"\\n\\n\")\n",
        "import pandas as pd\n",
        "\n",
        "print(\"Перший спосіб\")\n",
        "\n",
        "\n",
        "dframe2 = pd.DataFrame(np.random.randint(0, 10, (5, 5)), columns=[\"1\", \"2\", \"3\", \"3\", \"5\"])\n",
        "print(dframe2)\n",
        "print(dframe2.describe(include='all'))\n",
        "\n",
        "print(\"Другий спосіб\")\n",
        "import pandas as pd\n",
        "\n",
        "dframe1 = pd.read_csv('data.csv',encoding='utf-16')\n",
        "print(dframe1, end=\"\\n\\n\")\n",
        "print(dframe1.head(), end=\"\\n\\n\")\n",
        "print(dframe1.describe(), end=\"\\n\\n\")\n",
        "print(dframe1.info(), end=\"\\n\\n\")\n",
        "print(dframe1.iloc[2])\n",
        "dframe1 = pd.DataFrame(dframe1, index=['0', '1', '2', '3'])\n",
        "print(dframe1.loc['2'], end=\"\\n\\n\")\n",
        "\n",
        "\n",
        "print(\"Третій спосіб\")\n",
        "\n",
        "d = [{'a': \"one\", 'b': \"two\", 'c': \"three\", 'd': \"four\"},\n",
        "     {'a': 100, 'b': 200, 'c': 300, 'd': 400},\n",
        "     {'a': 1000, 'b': 2000, 'c': 3000, 'd': 4000}]\n",
        "df3 = pd.DataFrame(d, index=[\"a1\", \"b2\", \"c3\"])\n",
        "print(df3, end=\"\\n\\n\")\n",
        "print(df3.iloc[[True, False, True]], end=\"\\n\\n\")\n",
        "print(df3.iloc[[0,2]], end=\"\\n\\n\")\n",
        "print(df3.loc[[\"c3\"]], end=\"\\n\\n\")"
      ]
    },
    {
      "cell_type": "code",
      "execution_count": 9,
      "metadata": {
        "colab": {
          "base_uri": "https://localhost:8080/",
          "height": 846
        },
        "id": "pgGcoFplvFGC",
        "outputId": "3cbf498a-e90f-41a4-d07e-bddaa6538322"
      },
      "outputs": [
        {
          "name": "stdout",
          "output_type": "stream",
          "text": [
            "Третья задача\n",
            "\n",
            "Graph\n",
            "\n"
          ]
        },
        {
          "data": {
            "image/png": "[encoded data removed]",
            "text/plain": [
              "<Figure size 432x288 with 1 Axes>"
            ]
          },
          "metadata": {
            "needs_background": "light"
          },
          "output_type": "display_data"
        },
        {
          "name": "stdout",
          "output_type": "stream",
          "text": [
            "inaccuracy\n",
            "\n",
            "0.4817654543381648\n",
            "0.24761392847069336\n",
            "Вывод в CSV\n",
            "\n",
            "      X          Y  Y_hat\n",
            "0   0.0   0.540696    0.0\n",
            "1   2.0   3.490807    3.0\n",
            "2   4.0   6.487695    6.0\n",
            "3   6.0   9.371755    9.0\n",
            "4   8.0  11.655303   12.0\n",
            "5  10.0  15.691151   15.0\n",
            "6  12.0  17.686589   18.0\n",
            "7  14.0  20.386088   21.0\n"
          ]
        },
        {
          "data": {
            "image/png": "[encoded data removed]",
            "text/plain": [
              "<Figure size 432x288 with 1 Axes>"
            ]
          },
          "metadata": {
            "needs_background": "light"
          },
          "output_type": "display_data"
        }
      ],
      "source": [
        "print(\"Третья задача\", end=\"\\n\\n\")\n",
        "\n",
        "print(\"Graph\", end=\"\\n\\n\")\n",
        "\n",
        "import matplotlib.pyplot as plt\n",
        "import sklearn.metrics as metrics\n",
        "\n",
        "x = np.arange(0, 16, 2)\n",
        "y1 = x * 1.5\n",
        "\n",
        "adder = np.random.random(len(x)) * 1.4 - 0.7\n",
        "y2 = y1 + adder\n",
        "\n",
        "plt.figure()\n",
        "plt.grid()\n",
        "plt.xticks(x)\n",
        "plt.yticks(range(int(x[-1] * 1.5 + 1)))\n",
        "plt.xlabel('X Axis')\n",
        "plt.ylabel('Y Axis')\n",
        "\n",
        "plt.plot(x, y1, \"r--\", label=\"Теоретично\")\n",
        "plt.plot(x, y2, \"b\", label=\"результат\")\n",
        "\n",
        "plt.legend()\n",
        "plt.show()\n",
        "\n",
        "\n",
        "print(\"inaccuracy\", end=\"\\n\\n\")\n",
        "mae = metrics.mean_absolute_error(y2, y1)\n",
        "mse = metrics.mean_squared_error(y2, y1)\n",
        "print(mae)\n",
        "print(mse)\n",
        "\n",
        "print(\"Вивід в CSV\", end=\"\\n\\n\")\n",
        "df = pd.DataFrame(np.array([x, y2, y1]).swapaxes(0,1), columns=['X', 'Y', 'Y_hat'])\n",
        "print(df)\n",
        "with open('data_output.csv', 'w') as f:\n",
        "    f.write(df.to_csv(index=False))\n",
        "\n",
        "\n",
        "\n",
        "\n",
        "x = np.random.randint(0, 100, 20)\n",
        "y = np.random.randint(0, 100, 20)\n",
        "plt.scatter(x,y)\n",
        "plt.show()"
      ]
    }
  ],
  "metadata": {
    "colab": {
      "name": "Untitled1.ipynb",
      "provenance": []
    },
    "kernelspec": {
      "display_name": "Python 3",
      "name": "python3"
    },
    "language_info": {
      "name": "python"
    }
  },
  "nbformat": 4,
  "nbformat_minor": 0
}
