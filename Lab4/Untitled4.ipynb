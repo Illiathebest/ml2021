{
  "nbformat": 4,
  "nbformat_minor": 0,
  "metadata": {
    "colab": {
      "name": "Untitled5.ipynb",
      "provenance": []
    },
    "kernelspec": {
      "name": "python3",
      "display_name": "Python 3"
    },
    "language_info": {
      "name": "python"
    }
  },
  "cells": [
    {
      "cell_type": "code",
      "metadata": {
        "id": "eM80BaETFtOE"
      },
      "source": [
        "\n",
        "import tensorflow as tf\n",
        "import numpy as np\n",
        "import matplotlib.pyplot as plt\n",
        "import numpy as np\n",
        "import sklearn.metrics as metrics\n",
        "import pandas as pd\n",
        "import seaborn as sns"
      ],
      "execution_count": 1,
      "outputs": []
    },
    {
      "cell_type": "code",
      "metadata": {
        "colab": {
          "base_uri": "https://localhost:8080/"
        },
        "id": "VhFWMU-1FvRE",
        "outputId": "9fd79aa8-7e5c-4534-d0d0-5d318747e4be"
      },
      "source": [
        "tf1 = tf.constant([[15, 21], [30, 40]])\n",
        "print(tf1)\n",
        "#(crud)\n",
        "print(np.square(tf1))\n",
        "# convert to numPy object\n",
        "tf1 = tf1 + 110\n",
        "print(tf1)\n",
        "# update\n",
        "tf1_without_2nd_row = tf.gather(tf1, [0])\n",
        "print(tf1_without_2nd_row)"
      ],
      "execution_count": 17,
      "outputs": [
        {
          "output_type": "stream",
          "name": "stdout",
          "text": [
            "tf.Tensor(\n",
            "[[15 21]\n",
            " [30 40]], shape=(2, 2), dtype=int32)\n",
            "[[ 225  441]\n",
            " [ 900 1600]]\n",
            "tf.Tensor(\n",
            "[[115 121]\n",
            " [130 140]], shape=(2, 2), dtype=int32)\n",
            "tf.Tensor([[115 121]], shape=(1, 2), dtype=int32)\n"
          ]
        }
      ]
    },
    {
      "cell_type": "code",
      "metadata": {
        "colab": {
          "base_uri": "https://localhost:8080/"
        },
        "id": "kKN3WdlxFxws",
        "outputId": "685fb1c1-7b08-405b-931e-13054f79b520"
      },
      "source": [
        "scalar = tf.constant(10)\n",
        "scalar\n",
        "scalar.ndim\n",
        "vector = tf.constant([19, 11.2])\n",
        "vector\n",
        "vector.ndim\n",
        "\n",
        "mat1 = tf.constant([[10, 20],\n",
        "             [30, 40]])\n",
        "mat1\n",
        "mat1.ndim\n",
        "mat2 = tf.constant([[10., 40.],\n",
        "                    [30., 20.],\n",
        "                    [50., 60.]], dtype=tf.float16)\n",
        "\n",
        "mat2\n",
        "mat2.ndim\n",
        "\n",
        "\n",
        "tensor = tf.constant([[[10, 20, 30,],\n",
        "                       [40, 50, 60]],\n",
        "                      [[70, 80, 90],\n",
        "                       [100, 110, 120]],\n",
        "                      [[130, 140, 150],\n",
        "                       [160, 170, 180]]])\n",
        "tensor\n",
        "\n",
        "tensor.ndim\n",
        "random_1 = tf.random.Generator.from_seed(70)\n",
        "random_1 = random_1.normal(shape=(40, 20))\n",
        "random_2 = tf.random.Generator.from_seed(10)\n",
        "random_2 = random_2.normal(shape=(50, 30))\n",
        "df2 = pd.DataFrame(np.random.randint(0, 10, (5, 5)), columns=[\"1\", \"2\", \"3\", \"4\", \"5\"])\n",
        "print(df2)\n",
        "print(df2.describe(include='all'))\n",
        "training_df: pd.DataFrame = pd.DataFrame(\n",
        "    data={\n",
        "        'feature1': np.random.rand(10),\n",
        "        'feature2': np.random.rand(10),\n",
        "        'feature3': np.random.rand(10),\n",
        "        'target': np.random.randint(0, 3, 10)\n",
        "    }\n",
        ")\n",
        "features = ['feature1', 'feature2', 'feature3']\n",
        "print(training_df)\n",
        "\n",
        "training_dataset = (\n",
        "    tf.data.Dataset.from_tensor_slices(\n",
        "        (\n",
        "            tf.cast(training_df[features].values, tf.float32),\n",
        "            tf.cast(training_df['target'].values, tf.int32)\n",
        "        )\n",
        "    )\n",
        ")\n",
        "\n",
        "for features_tensor, target_tensor in training_dataset:\n",
        "    print(f'features:{features_tensor} target:{target_tensor}')"
      ],
      "execution_count": 18,
      "outputs": [
        {
          "output_type": "stream",
          "name": "stdout",
          "text": [
            "   1  2  3  4  5\n",
            "0  5  3  5  4  2\n",
            "1  2  6  0  5  2\n",
            "2  2  6  1  4  7\n",
            "3  1  2  4  1  9\n",
            "4  8  6  2  2  8\n",
            "              1         2         3         4         5\n",
            "count  5.000000  5.000000  5.000000  5.000000  5.000000\n",
            "mean   3.600000  4.600000  2.400000  3.200000  5.600000\n",
            "std    2.880972  1.949359  2.073644  1.643168  3.361547\n",
            "min    1.000000  2.000000  0.000000  1.000000  2.000000\n",
            "25%    2.000000  3.000000  1.000000  2.000000  2.000000\n",
            "50%    2.000000  6.000000  2.000000  4.000000  7.000000\n",
            "75%    5.000000  6.000000  4.000000  4.000000  8.000000\n",
            "max    8.000000  6.000000  5.000000  5.000000  9.000000\n",
            "   feature1  feature2  feature3  target\n",
            "0  0.349051  0.169122  0.778234       1\n",
            "1  0.841304  0.185605  0.435028       1\n",
            "2  0.920856  0.516001  0.028445       2\n",
            "3  0.885481  0.801494  0.887146       0\n",
            "4  0.629157  0.155631  0.876612       2\n",
            "5  0.792219  0.616243  0.231173       2\n",
            "6  0.062229  0.240801  0.932983       0\n",
            "7  0.357152  0.832714  0.307042       2\n",
            "8  0.094562  0.691244  0.796349       0\n",
            "9  0.888061  0.829030  0.913988       2\n",
            "features:[0.3490513  0.16912164 0.7782345 ] target:1\n",
            "features:[0.8413045  0.18560494 0.43502837] target:1\n",
            "features:[0.9208559  0.5160005  0.02844509] target:2\n",
            "features:[0.8854812  0.80149436 0.8871464 ] target:0\n",
            "features:[0.62915695 0.15563136 0.8766125 ] target:2\n",
            "features:[0.79221904 0.6162433  0.23117317] target:2\n",
            "features:[0.06222927 0.24080122 0.93298316] target:0\n",
            "features:[0.35715163 0.8327135  0.30704224] target:2\n",
            "features:[0.09456217 0.6912439  0.7963493 ] target:0\n",
            "features:[0.8880606 0.8290296 0.9139877] target:2\n"
          ]
        }
      ]
    },
    {
      "cell_type": "code",
      "metadata": {
        "colab": {
          "base_uri": "https://localhost:8080/",
          "height": 280
        },
        "id": "rvD4LVNMGC_T",
        "outputId": "a22d1afb-e12c-40c5-8c27-3164d4654407"
      },
      "source": [
        "x = np.arange(0, 15, 0.5)\n",
        "y1 = x * 1.2\n",
        "\n",
        "adder = np.random.random(len(x)) * 1.1 - 0.9\n",
        "y2 = y1 + adder\n",
        "\n",
        "plt.figure()\n",
        "plt.grid()\n",
        "plt.xticks(x)\n",
        "plt.yticks(range(int(x[-1] * 1.5 + 1)))\n",
        "plt.xlabel('X Axis')\n",
        "plt.ylabel('Y Axis')\n",
        "\n",
        "plt.plot(x, y1, \"r--\", label=\"teoretic\")\n",
        "plt.plot(x, y2, \"b\", label=\"result\")\n",
        "\n",
        "plt.legend()\n",
        "plt.show()"
      ],
      "execution_count": 19,
      "outputs": [
        {
          "output_type": "display_data",
          "data": {
            "image/png": "[encoded data removed]",
            "text/plain": [
              "<Figure size 432x288 with 1 Axes>"
            ]
          },
          "metadata": {
            "needs_background": "light"
          }
        }
      ]
    },
    {
      "cell_type": "code",
      "metadata": {
        "colab": {
          "base_uri": "https://localhost:8080/"
        },
        "id": "peR5A-xKGFku",
        "outputId": "13fc44c9-ec1c-4449-87be-50c5b3c11e93"
      },
      "source": [
        "\n",
        "mae = metrics.mean_absolute_error(y2, y1)\n",
        "mse = metrics.mean_squared_error(y2, y1)\n",
        "print(mae)\n",
        "print(mse)"
      ],
      "execution_count": 5,
      "outputs": [
        {
          "output_type": "stream",
          "name": "stdout",
          "text": [
            "0.391058279982458\n",
            "0.18170467632153425\n"
          ]
        }
      ]
    },
    {
      "cell_type": "code",
      "metadata": {
        "colab": {
          "base_uri": "https://localhost:8080/"
        },
        "id": "5HjxdoGbGJSX",
        "outputId": "407c9cfb-b2f7-4edf-cbc1-19c604fea7ca"
      },
      "source": [
        "df = pd.DataFrame(np.array([x, y2, y1]).swapaxes(0,1), columns=['X', 'Y', 'Y_hat'])\n",
        "print(df)\n",
        "with open('output.csv', 'w') as f:\n",
        "    f.write(df.to_csv(index=False))"
      ],
      "execution_count": 6,
      "outputs": [
        {
          "output_type": "stream",
          "name": "stdout",
          "text": [
            "       X          Y  Y_hat\n",
            "0    0.0   0.259586   0.00\n",
            "1    0.5   1.064333   0.75\n",
            "2    1.0   0.900577   1.50\n",
            "3    1.5   1.764215   2.25\n",
            "4    2.0   3.446922   3.00\n",
            "5    2.5   3.657645   3.75\n",
            "6    3.0   4.971413   4.50\n",
            "7    3.5   5.500048   5.25\n",
            "8    4.0   6.465933   6.00\n",
            "9    4.5   6.565778   6.75\n",
            "10   5.0   7.032065   7.50\n",
            "11   5.5   7.882993   8.25\n",
            "12   6.0   9.537090   9.00\n",
            "13   6.5   9.484031   9.75\n",
            "14   7.0  10.851752  10.50\n",
            "15   7.5  11.564003  11.25\n",
            "16   8.0  12.566138  12.00\n",
            "17   8.5  13.021263  12.75\n",
            "18   9.0  13.865895  13.50\n",
            "19   9.5  14.285969  14.25\n",
            "20  10.0  14.514092  15.00\n",
            "21  10.5  16.042261  15.75\n",
            "22  11.0  17.080339  16.50\n",
            "23  11.5  17.069865  17.25\n",
            "24  12.0  17.466305  18.00\n",
            "25  12.5  18.630812  18.75\n",
            "26  13.0  18.887499  19.50\n",
            "27  13.5  19.749927  20.25\n",
            "28  14.0  20.374431  21.00\n",
            "29  14.5  21.060960  21.75\n"
          ]
        }
      ]
    },
    {
      "cell_type": "code",
      "metadata": {
        "colab": {
          "base_uri": "https://localhost:8080/"
        },
        "id": "luJWD949GLMt",
        "outputId": "960f7f81-61fa-47ac-c93c-eebf02b909a4"
      },
      "source": [
        "input_shape = x[0].shape \n",
        "output_shape = y1[0].shape\n",
        "input_shape, output_shape \n",
        "\n",
        "tf.random.set_seed(42)\n",
        "\n",
        "model = tf.keras.Sequential([\n",
        "  tf.keras.layers.Dense(1)\n",
        "])\n",
        "\n",
        "model.compile(loss=tf.keras.losses.mae,\n",
        "              optimizer=tf.keras.optimizers.SGD(),\n",
        "              metrics=[\"mae\"])\n",
        "\n",
        "model.fit(x, y1, epochs=80)"
      ],
      "execution_count": 7,
      "outputs": [
        {
          "output_type": "stream",
          "name": "stdout",
          "text": [
            "Epoch 1/80\n",
            "1/1 [==============================] - 0s 473ms/step - loss: 6.7421 - mae: 6.7421\n",
            "Epoch 2/80\n",
            "1/1 [==============================] - 0s 3ms/step - loss: 6.2074 - mae: 6.2074\n",
            "Epoch 3/80\n",
            "1/1 [==============================] - 0s 4ms/step - loss: 5.6731 - mae: 5.6731\n",
            "Epoch 4/80\n",
            "1/1 [==============================] - 0s 4ms/step - loss: 5.1387 - mae: 5.1387\n",
            "Epoch 5/80\n",
            "1/1 [==============================] - 0s 4ms/step - loss: 4.6044 - mae: 4.6044\n",
            "Epoch 6/80\n",
            "1/1 [==============================] - 0s 5ms/step - loss: 4.0701 - mae: 4.0701\n",
            "Epoch 7/80\n",
            "1/1 [==============================] - 0s 5ms/step - loss: 3.5357 - mae: 3.5357\n",
            "Epoch 8/80\n",
            "1/1 [==============================] - 0s 4ms/step - loss: 3.0014 - mae: 3.0014\n",
            "Epoch 9/80\n",
            "1/1 [==============================] - 0s 5ms/step - loss: 2.4671 - mae: 2.4671\n",
            "Epoch 10/80\n",
            "1/1 [==============================] - 0s 5ms/step - loss: 1.9327 - mae: 1.9327\n",
            "Epoch 11/80\n",
            "1/1 [==============================] - 0s 8ms/step - loss: 1.3984 - mae: 1.3984\n",
            "Epoch 12/80\n",
            "1/1 [==============================] - 0s 6ms/step - loss: 0.8665 - mae: 0.8665\n",
            "Epoch 13/80\n",
            "1/1 [==============================] - 0s 6ms/step - loss: 0.3430 - mae: 0.3430\n",
            "Epoch 14/80\n",
            "1/1 [==============================] - 0s 7ms/step - loss: 0.1931 - mae: 0.1931\n",
            "Epoch 15/80\n",
            "1/1 [==============================] - 0s 6ms/step - loss: 0.3591 - mae: 0.3591\n",
            "Epoch 16/80\n",
            "1/1 [==============================] - 0s 5ms/step - loss: 0.1760 - mae: 0.1760\n",
            "Epoch 17/80\n",
            "1/1 [==============================] - 0s 6ms/step - loss: 0.3752 - mae: 0.3752\n",
            "Epoch 18/80\n",
            "1/1 [==============================] - 0s 6ms/step - loss: 0.1588 - mae: 0.1588\n",
            "Epoch 19/80\n",
            "1/1 [==============================] - 0s 5ms/step - loss: 0.3912 - mae: 0.3912\n",
            "Epoch 20/80\n",
            "1/1 [==============================] - 0s 4ms/step - loss: 0.1416 - mae: 0.1416\n",
            "Epoch 21/80\n",
            "1/1 [==============================] - 0s 7ms/step - loss: 0.4074 - mae: 0.4074\n",
            "Epoch 22/80\n",
            "1/1 [==============================] - 0s 7ms/step - loss: 0.1324 - mae: 0.1324\n",
            "Epoch 23/80\n",
            "1/1 [==============================] - 0s 5ms/step - loss: 0.4161 - mae: 0.4161\n",
            "Epoch 24/80\n",
            "1/1 [==============================] - 0s 5ms/step - loss: 0.1231 - mae: 0.1231\n",
            "Epoch 25/80\n",
            "1/1 [==============================] - 0s 5ms/step - loss: 0.4249 - mae: 0.4249\n",
            "Epoch 26/80\n",
            "1/1 [==============================] - 0s 4ms/step - loss: 0.1139 - mae: 0.1139\n",
            "Epoch 27/80\n",
            "1/1 [==============================] - 0s 6ms/step - loss: 0.4336 - mae: 0.4336\n",
            "Epoch 28/80\n",
            "1/1 [==============================] - 0s 4ms/step - loss: 0.1046 - mae: 0.1046\n",
            "Epoch 29/80\n",
            "1/1 [==============================] - 0s 6ms/step - loss: 0.4424 - mae: 0.4424\n",
            "Epoch 30/80\n",
            "1/1 [==============================] - 0s 5ms/step - loss: 0.0954 - mae: 0.0954\n",
            "Epoch 31/80\n",
            "1/1 [==============================] - 0s 5ms/step - loss: 0.4511 - mae: 0.4511\n",
            "Epoch 32/80\n",
            "1/1 [==============================] - 0s 4ms/step - loss: 0.0861 - mae: 0.0861\n",
            "Epoch 33/80\n",
            "1/1 [==============================] - 0s 4ms/step - loss: 0.4599 - mae: 0.4599\n",
            "Epoch 34/80\n",
            "1/1 [==============================] - 0s 6ms/step - loss: 0.0769 - mae: 0.0769\n",
            "Epoch 35/80\n",
            "1/1 [==============================] - 0s 3ms/step - loss: 0.4686 - mae: 0.4686\n",
            "Epoch 36/80\n",
            "1/1 [==============================] - 0s 4ms/step - loss: 0.0676 - mae: 0.0676\n",
            "Epoch 37/80\n",
            "1/1 [==============================] - 0s 5ms/step - loss: 0.4774 - mae: 0.4774\n",
            "Epoch 38/80\n",
            "1/1 [==============================] - 0s 5ms/step - loss: 0.0584 - mae: 0.0584\n",
            "Epoch 39/80\n",
            "1/1 [==============================] - 0s 5ms/step - loss: 0.4861 - mae: 0.4861\n",
            "Epoch 40/80\n",
            "1/1 [==============================] - 0s 4ms/step - loss: 0.0491 - mae: 0.0491\n",
            "Epoch 41/80\n",
            "1/1 [==============================] - 0s 5ms/step - loss: 0.4949 - mae: 0.4949\n",
            "Epoch 42/80\n",
            "1/1 [==============================] - 0s 4ms/step - loss: 0.0411 - mae: 0.0411\n",
            "Epoch 43/80\n",
            "1/1 [==============================] - 0s 3ms/step - loss: 0.3021 - mae: 0.3021\n",
            "Epoch 44/80\n",
            "1/1 [==============================] - 0s 5ms/step - loss: 0.2277 - mae: 0.2277\n",
            "Epoch 45/80\n",
            "1/1 [==============================] - 0s 5ms/step - loss: 0.3182 - mae: 0.3182\n",
            "Epoch 46/80\n",
            "1/1 [==============================] - 0s 5ms/step - loss: 0.2185 - mae: 0.2185\n",
            "Epoch 47/80\n",
            "1/1 [==============================] - 0s 5ms/step - loss: 0.3270 - mae: 0.3270\n",
            "Epoch 48/80\n",
            "1/1 [==============================] - 0s 5ms/step - loss: 0.2092 - mae: 0.2092\n",
            "Epoch 49/80\n",
            "1/1 [==============================] - 0s 4ms/step - loss: 0.3357 - mae: 0.3357\n",
            "Epoch 50/80\n",
            "1/1 [==============================] - 0s 7ms/step - loss: 0.2000 - mae: 0.2000\n",
            "Epoch 51/80\n",
            "1/1 [==============================] - 0s 7ms/step - loss: 0.3445 - mae: 0.3445\n",
            "Epoch 52/80\n",
            "1/1 [==============================] - 0s 4ms/step - loss: 0.1907 - mae: 0.1907\n",
            "Epoch 53/80\n",
            "1/1 [==============================] - 0s 6ms/step - loss: 0.3532 - mae: 0.3532\n",
            "Epoch 54/80\n",
            "1/1 [==============================] - 0s 10ms/step - loss: 0.1815 - mae: 0.1815\n",
            "Epoch 55/80\n",
            "1/1 [==============================] - 0s 6ms/step - loss: 0.3620 - mae: 0.3620\n",
            "Epoch 56/80\n",
            "1/1 [==============================] - 0s 5ms/step - loss: 0.1722 - mae: 0.1722\n",
            "Epoch 57/80\n",
            "1/1 [==============================] - 0s 5ms/step - loss: 0.3707 - mae: 0.3707\n",
            "Epoch 58/80\n",
            "1/1 [==============================] - 0s 5ms/step - loss: 0.1630 - mae: 0.1630\n",
            "Epoch 59/80\n",
            "1/1 [==============================] - 0s 5ms/step - loss: 0.3795 - mae: 0.3795\n",
            "Epoch 60/80\n",
            "1/1 [==============================] - 0s 4ms/step - loss: 0.1537 - mae: 0.1537\n",
            "Epoch 61/80\n",
            "1/1 [==============================] - 0s 6ms/step - loss: 0.3882 - mae: 0.3882\n",
            "Epoch 62/80\n",
            "1/1 [==============================] - 0s 6ms/step - loss: 0.1445 - mae: 0.1445\n",
            "Epoch 63/80\n",
            "1/1 [==============================] - 0s 4ms/step - loss: 0.3971 - mae: 0.3971\n",
            "Epoch 64/80\n",
            "1/1 [==============================] - 0s 6ms/step - loss: 0.1407 - mae: 0.1407\n",
            "Epoch 65/80\n",
            "1/1 [==============================] - 0s 7ms/step - loss: 0.4007 - mae: 0.4007\n",
            "Epoch 66/80\n",
            "1/1 [==============================] - 0s 4ms/step - loss: 0.1370 - mae: 0.1370\n",
            "Epoch 67/80\n",
            "1/1 [==============================] - 0s 9ms/step - loss: 0.4042 - mae: 0.4042\n",
            "Epoch 68/80\n",
            "1/1 [==============================] - 0s 4ms/step - loss: 0.1332 - mae: 0.1332\n",
            "Epoch 69/80\n",
            "1/1 [==============================] - 0s 3ms/step - loss: 0.4078 - mae: 0.4078\n",
            "Epoch 70/80\n",
            "1/1 [==============================] - 0s 3ms/step - loss: 0.1295 - mae: 0.1295\n",
            "Epoch 71/80\n",
            "1/1 [==============================] - 0s 3ms/step - loss: 0.4114 - mae: 0.4114\n",
            "Epoch 72/80\n",
            "1/1 [==============================] - 0s 3ms/step - loss: 0.1257 - mae: 0.1257\n",
            "Epoch 73/80\n",
            "1/1 [==============================] - 0s 3ms/step - loss: 0.4149 - mae: 0.4149\n",
            "Epoch 74/80\n",
            "1/1 [==============================] - 0s 4ms/step - loss: 0.1220 - mae: 0.1220\n",
            "Epoch 75/80\n",
            "1/1 [==============================] - 0s 3ms/step - loss: 0.4185 - mae: 0.4185\n",
            "Epoch 76/80\n",
            "1/1 [==============================] - 0s 5ms/step - loss: 0.1182 - mae: 0.1182\n",
            "Epoch 77/80\n",
            "1/1 [==============================] - 0s 4ms/step - loss: 0.4220 - mae: 0.4220\n",
            "Epoch 78/80\n",
            "1/1 [==============================] - 0s 4ms/step - loss: 0.1145 - mae: 0.1145\n",
            "Epoch 79/80\n",
            "1/1 [==============================] - 0s 4ms/step - loss: 0.4256 - mae: 0.4256\n",
            "Epoch 80/80\n",
            "1/1 [==============================] - 0s 3ms/step - loss: 0.1107 - mae: 0.1107\n"
          ]
        },
        {
          "output_type": "execute_result",
          "data": {
            "text/plain": [
              "<keras.callbacks.History at 0x7f4b005c1050>"
            ]
          },
          "metadata": {},
          "execution_count": 7
        }
      ]
    },
    {
      "cell_type": "code",
      "metadata": {
        "colab": {
          "base_uri": "https://localhost:8080/"
        },
        "id": "I1dxhVCSGObJ",
        "outputId": "c8e4f3bc-ae15-4709-c4cb-b05378c31cac"
      },
      "source": [
        "X_train = x[:80]\n",
        "y_train = y1[:80]\n",
        "\n",
        "X_test = x[80:] \n",
        "y_test = y1[80:]\n",
        "\n",
        "len(X_train), len(X_test)"
      ],
      "execution_count": 8,
      "outputs": [
        {
          "output_type": "execute_result",
          "data": {
            "text/plain": [
              "(30, 0)"
            ]
          },
          "metadata": {},
          "execution_count": 8
        }
      ]
    },
    {
      "cell_type": "code",
      "metadata": {
        "colab": {
          "base_uri": "https://localhost:8080/",
          "height": 857
        },
        "id": "WNHi9FpYGQz6",
        "outputId": "4179e08f-a729-46d9-a5c4-7366998badbc"
      },
      "source": [
        "plt.figure(figsize=(30, 15))\n",
        "plt.scatter(X_train, y_train, c='b', label='Training data')\n",
        "plt.scatter(X_test, y_test, c='g', label='Testing data')\n",
        "plt.legend()\n",
        "model.summary()\n",
        "model.fit(X_train, y_train, epochs=80, verbose=0)\n",
        "model.predict([20.0])\n",
        "tf.random.set_seed(42)\n",
        "\n",
        "model_1 = tf.keras.Sequential([\n",
        "  tf.keras.layers.Dense(100), \n",
        "  tf.keras.layers.Dense(10),\n",
        "  tf.keras.layers.Dense(1)\n",
        "])\n",
        "\n",
        "model_1.compile(loss=tf.keras.losses.BinaryCrossentropy(),\n",
        "                optimizer=tf.keras.optimizers.Adam(), \n",
        "                metrics=['accuracy'])\n",
        "\n",
        "model_1.fit(x, y1, epochs=20, verbose=0)"
      ],
      "execution_count": 11,
      "outputs": [
        {
          "output_type": "stream",
          "name": "stdout",
          "text": [
            "Model: \"sequential\"\n",
            "_________________________________________________________________\n",
            "Layer (type)                 Output Shape              Param #   \n",
            "=================================================================\n",
            "dense (Dense)                (None, 1)                 2         \n",
            "=================================================================\n",
            "Total params: 2\n",
            "Trainable params: 2\n",
            "Non-trainable params: 0\n",
            "_________________________________________________________________\n"
          ]
        },
        {
          "output_type": "execute_result",
          "data": {
            "text/plain": [
              "<keras.callbacks.History at 0x7f4b0102b550>"
            ]
          },
          "metadata": {},
          "execution_count": 11
        },
        {
          "output_type": "display_data",
          "data": {
            "image/png": "[encoded data removed]",
            "text/plain": [
              "<Figure size 2160x1080 with 1 Axes>"
            ]
          },
          "metadata": {
            "needs_background": "light"
          }
        }
      ]
    },
    {
      "cell_type": "code",
      "metadata": {
        "id": "3pQE9cWdGbYr"
      },
      "source": [
        "def plot_decision_boundary(model, X, y):\n",
        "    \n",
        "  x_min, x_max = X[:, 0].min() - 0.1, X[:, 0].max() + 0.1\n",
        "  y_min, y_max = X[:, 1].min() - 0.1, X[:, 1].max() + 0.1\n",
        "  xx, yy = np.meshgrid(np.linspace(x_min, x_max, 100),\n",
        "                       np.linspace(y_min, y_max, 100))\n",
        "  \n",
        "  x_in = np.c_[xx.ravel(), yy.ravel()]\n",
        " \n",
        "  y_pred = model.predict(x_in)\n",
        "\n",
        "  if len(y_pred[0]) > 1:\n",
        "    print(\"doing multiclass classification...\")\n",
        "    y_pred = np.argmax(y_pred, axis=1).reshape(xx.shape)\n",
        "  else:\n",
        "    print(\"doing binary classifcation...\")\n",
        "    y_pred = np.round(y_pred).reshape(xx.shape)\n",
        "\n",
        "  plt.contourf(xx, yy, y_pred, cmap=plt.cm.RdYlBu, alpha=0.7)\n",
        "  plt.scatter(X[:, 0], X[:, 1], c=y, s=40, cmap=plt.cm.RdYlBu)\n",
        "  plt.xlim(xx.min(), xx.max())\n",
        "  plt.ylim(yy.min(), yy.max())"
      ],
      "execution_count": 13,
      "outputs": []
    },
    {
      "cell_type": "code",
      "metadata": {
        "colab": {
          "base_uri": "https://localhost:8080/"
        },
        "id": "_Fdb9mAcGdKr",
        "outputId": "4cb6008f-0042-4bbd-b8c7-9f85e429293a"
      },
      "source": [
        "\n",
        "tf.random.set_seed(42)\n",
        "\n",
        "X_regression = np.arange(0, 100, 5)\n",
        "y_regression = np.arange(100, 110, 5)\n",
        "\n",
        "X_reg_train = X_regression[:150]\n",
        "X_reg_test = X_regression[150:]\n",
        "y_reg_train = y_regression[:150]\n",
        "y_reg_test = y_regression[150:]\n",
        "model_1.evaluate(x, y1)\n",
        "len(x)\n",
        "\n",
        "X_train, y_train = x[:800], y1[:800]\n",
        "X_test, y_test = x[800:], y1[800:]\n",
        "\n",
        "X_train.shape, X_test.shape\n",
        "\n",
        "tf.random.set_seed(42)\n",
        "\n",
        "model_2 = tf.keras.Sequential([\n",
        "  tf.keras.layers.Dense(4, activation=\"relu\"), \n",
        "  tf.keras.layers.Dense(4, activation=\"relu\"),\n",
        "  tf.keras.layers.Dense(1, activation=\"sigmoid\")\n",
        "])\n",
        "\n",
        "model_2.compile(loss=tf.keras.losses.binary_crossentropy,\n",
        "                optimizer=tf.keras.optimizers.Adam(lr=0.01), \n",
        "                metrics=['accuracy'])\n",
        "\n",
        "history = model_2.fit(X_train, y_train, epochs=25)"
      ],
      "execution_count": 14,
      "outputs": [
        {
          "output_type": "stream",
          "name": "stdout",
          "text": [
            "1/1 [==============================] - 0s 113ms/step - loss: -150.9824 - accuracy: 0.0333\n",
            "Epoch 1/25\n"
          ]
        },
        {
          "output_type": "stream",
          "name": "stderr",
          "text": [
            "/usr/local/lib/python3.7/dist-packages/keras/optimizer_v2/optimizer_v2.py:356: UserWarning: The `lr` argument is deprecated, use `learning_rate` instead.\n",
            "  \"The `lr` argument is deprecated, use `learning_rate` instead.\")\n"
          ]
        },
        {
          "output_type": "stream",
          "name": "stdout",
          "text": [
            "1/1 [==============================] - 0s 375ms/step - loss: 24.0441 - accuracy: 0.0333\n",
            "Epoch 2/25\n",
            "1/1 [==============================] - 0s 6ms/step - loss: 22.0634 - accuracy: 0.0000e+00\n",
            "Epoch 3/25\n",
            "1/1 [==============================] - 0s 10ms/step - loss: 20.1491 - accuracy: 0.0000e+00\n",
            "Epoch 4/25\n",
            "1/1 [==============================] - 0s 7ms/step - loss: 18.3022 - accuracy: 0.0000e+00\n",
            "Epoch 5/25\n",
            "1/1 [==============================] - 0s 4ms/step - loss: 16.5236 - accuracy: 0.0000e+00\n",
            "Epoch 6/25\n",
            "1/1 [==============================] - 0s 11ms/step - loss: 14.8142 - accuracy: 0.0000e+00\n",
            "Epoch 7/25\n",
            "1/1 [==============================] - 0s 6ms/step - loss: 13.1743 - accuracy: 0.0000e+00\n",
            "Epoch 8/25\n",
            "1/1 [==============================] - 0s 4ms/step - loss: 11.6044 - accuracy: 0.0000e+00\n",
            "Epoch 9/25\n",
            "1/1 [==============================] - 0s 7ms/step - loss: 10.1043 - accuracy: 0.0000e+00\n",
            "Epoch 10/25\n",
            "1/1 [==============================] - 0s 4ms/step - loss: 8.6738 - accuracy: 0.0000e+00\n",
            "Epoch 11/25\n",
            "1/1 [==============================] - 0s 5ms/step - loss: 7.3123 - accuracy: 0.0000e+00\n",
            "Epoch 12/25\n",
            "1/1 [==============================] - 0s 3ms/step - loss: 6.0194 - accuracy: 0.0000e+00\n",
            "Epoch 13/25\n",
            "1/1 [==============================] - 0s 5ms/step - loss: 4.7939 - accuracy: 0.0000e+00\n",
            "Epoch 14/25\n",
            "1/1 [==============================] - 0s 3ms/step - loss: 3.6340 - accuracy: 0.0000e+00\n",
            "Epoch 15/25\n",
            "1/1 [==============================] - 0s 3ms/step - loss: 2.5389 - accuracy: 0.0000e+00\n",
            "Epoch 16/25\n",
            "1/1 [==============================] - 0s 4ms/step - loss: 1.5066 - accuracy: 0.0000e+00\n",
            "Epoch 17/25\n",
            "1/1 [==============================] - 0s 4ms/step - loss: 0.5343 - accuracy: 0.0000e+00\n",
            "Epoch 18/25\n",
            "1/1 [==============================] - 0s 8ms/step - loss: -0.3785 - accuracy: 0.0000e+00\n",
            "Epoch 19/25\n",
            "1/1 [==============================] - 0s 3ms/step - loss: -1.2362 - accuracy: 0.0000e+00\n",
            "Epoch 20/25\n",
            "1/1 [==============================] - 0s 3ms/step - loss: -2.0398 - accuracy: 0.0000e+00\n",
            "Epoch 21/25\n",
            "1/1 [==============================] - 0s 3ms/step - loss: -2.7938 - accuracy: 0.0000e+00\n",
            "Epoch 22/25\n",
            "1/1 [==============================] - 0s 5ms/step - loss: -3.4994 - accuracy: 0.0000e+00\n",
            "Epoch 23/25\n",
            "1/1 [==============================] - 0s 5ms/step - loss: -4.1618 - accuracy: 0.0000e+00\n",
            "Epoch 24/25\n",
            "1/1 [==============================] - 0s 6ms/step - loss: -4.7827 - accuracy: 0.0000e+00\n",
            "Epoch 25/25\n",
            "1/1 [==============================] - 0s 6ms/step - loss: -5.3666 - accuracy: 0.0000e+00\n"
          ]
        }
      ]
    },
    {
      "cell_type": "code",
      "metadata": {
        "colab": {
          "base_uri": "https://localhost:8080/",
          "height": 824
        },
        "id": "P3AEVqKZGknh",
        "outputId": "0d88a517-07c2-4459-ab3b-ab812c69bb75"
      },
      "source": [
        "pd.DataFrame(history.history)"
      ],
      "execution_count": 15,
      "outputs": [
        {
          "output_type": "execute_result",
          "data": {
            "text/html": [
              "<div>\n",
              "<style scoped>\n",
              "    .dataframe tbody tr th:only-of-type {\n",
              "        vertical-align: middle;\n",
              "    }\n",
              "\n",
              "    .dataframe tbody tr th {\n",
              "        vertical-align: top;\n",
              "    }\n",
              "\n",
              "    .dataframe thead th {\n",
              "        text-align: right;\n",
              "    }\n",
              "</style>\n",
              "<table border=\"1\" class=\"dataframe\">\n",
              "  <thead>\n",
              "    <tr style=\"text-align: right;\">\n",
              "      <th></th>\n",
              "      <th>loss</th>\n",
              "      <th>accuracy</th>\n",
              "    </tr>\n",
              "  </thead>\n",
              "  <tbody>\n",
              "    <tr>\n",
              "      <th>0</th>\n",
              "      <td>24.044142</td>\n",
              "      <td>0.033333</td>\n",
              "    </tr>\n",
              "    <tr>\n",
              "      <th>1</th>\n",
              "      <td>22.063450</td>\n",
              "      <td>0.000000</td>\n",
              "    </tr>\n",
              "    <tr>\n",
              "      <th>2</th>\n",
              "      <td>20.149086</td>\n",
              "      <td>0.000000</td>\n",
              "    </tr>\n",
              "    <tr>\n",
              "      <th>3</th>\n",
              "      <td>18.302155</td>\n",
              "      <td>0.000000</td>\n",
              "    </tr>\n",
              "    <tr>\n",
              "      <th>4</th>\n",
              "      <td>16.523607</td>\n",
              "      <td>0.000000</td>\n",
              "    </tr>\n",
              "    <tr>\n",
              "      <th>5</th>\n",
              "      <td>14.814157</td>\n",
              "      <td>0.000000</td>\n",
              "    </tr>\n",
              "    <tr>\n",
              "      <th>6</th>\n",
              "      <td>13.174283</td>\n",
              "      <td>0.000000</td>\n",
              "    </tr>\n",
              "    <tr>\n",
              "      <th>7</th>\n",
              "      <td>11.604381</td>\n",
              "      <td>0.000000</td>\n",
              "    </tr>\n",
              "    <tr>\n",
              "      <th>8</th>\n",
              "      <td>10.104320</td>\n",
              "      <td>0.000000</td>\n",
              "    </tr>\n",
              "    <tr>\n",
              "      <th>9</th>\n",
              "      <td>8.673801</td>\n",
              "      <td>0.000000</td>\n",
              "    </tr>\n",
              "    <tr>\n",
              "      <th>10</th>\n",
              "      <td>7.312282</td>\n",
              "      <td>0.000000</td>\n",
              "    </tr>\n",
              "    <tr>\n",
              "      <th>11</th>\n",
              "      <td>6.019423</td>\n",
              "      <td>0.000000</td>\n",
              "    </tr>\n",
              "    <tr>\n",
              "      <th>12</th>\n",
              "      <td>4.793866</td>\n",
              "      <td>0.000000</td>\n",
              "    </tr>\n",
              "    <tr>\n",
              "      <th>13</th>\n",
              "      <td>3.634001</td>\n",
              "      <td>0.000000</td>\n",
              "    </tr>\n",
              "    <tr>\n",
              "      <th>14</th>\n",
              "      <td>2.538884</td>\n",
              "      <td>0.000000</td>\n",
              "    </tr>\n",
              "    <tr>\n",
              "      <th>15</th>\n",
              "      <td>1.506578</td>\n",
              "      <td>0.000000</td>\n",
              "    </tr>\n",
              "    <tr>\n",
              "      <th>16</th>\n",
              "      <td>0.534305</td>\n",
              "      <td>0.000000</td>\n",
              "    </tr>\n",
              "    <tr>\n",
              "      <th>17</th>\n",
              "      <td>-0.378506</td>\n",
              "      <td>0.000000</td>\n",
              "    </tr>\n",
              "    <tr>\n",
              "      <th>18</th>\n",
              "      <td>-1.236237</td>\n",
              "      <td>0.000000</td>\n",
              "    </tr>\n",
              "    <tr>\n",
              "      <th>19</th>\n",
              "      <td>-2.039805</td>\n",
              "      <td>0.000000</td>\n",
              "    </tr>\n",
              "    <tr>\n",
              "      <th>20</th>\n",
              "      <td>-2.793830</td>\n",
              "      <td>0.000000</td>\n",
              "    </tr>\n",
              "    <tr>\n",
              "      <th>21</th>\n",
              "      <td>-3.499450</td>\n",
              "      <td>0.000000</td>\n",
              "    </tr>\n",
              "    <tr>\n",
              "      <th>22</th>\n",
              "      <td>-4.161819</td>\n",
              "      <td>0.000000</td>\n",
              "    </tr>\n",
              "    <tr>\n",
              "      <th>23</th>\n",
              "      <td>-4.782724</td>\n",
              "      <td>0.000000</td>\n",
              "    </tr>\n",
              "    <tr>\n",
              "      <th>24</th>\n",
              "      <td>-5.366557</td>\n",
              "      <td>0.000000</td>\n",
              "    </tr>\n",
              "  </tbody>\n",
              "</table>\n",
              "</div>"
            ],
            "text/plain": [
              "         loss  accuracy\n",
              "0   24.044142  0.033333\n",
              "1   22.063450  0.000000\n",
              "2   20.149086  0.000000\n",
              "3   18.302155  0.000000\n",
              "4   16.523607  0.000000\n",
              "5   14.814157  0.000000\n",
              "6   13.174283  0.000000\n",
              "7   11.604381  0.000000\n",
              "8   10.104320  0.000000\n",
              "9    8.673801  0.000000\n",
              "10   7.312282  0.000000\n",
              "11   6.019423  0.000000\n",
              "12   4.793866  0.000000\n",
              "13   3.634001  0.000000\n",
              "14   2.538884  0.000000\n",
              "15   1.506578  0.000000\n",
              "16   0.534305  0.000000\n",
              "17  -0.378506  0.000000\n",
              "18  -1.236237  0.000000\n",
              "19  -2.039805  0.000000\n",
              "20  -2.793830  0.000000\n",
              "21  -3.499450  0.000000\n",
              "22  -4.161819  0.000000\n",
              "23  -4.782724  0.000000\n",
              "24  -5.366557  0.000000"
            ]
          },
          "metadata": {},
          "execution_count": 15
        }
      ]
    },
    {
      "cell_type": "code",
      "metadata": {
        "colab": {
          "base_uri": "https://localhost:8080/",
          "height": 298
        },
        "id": "E39U4APJGmrQ",
        "outputId": "9bcf0691-b221-49b1-987a-03af11d47cb9"
      },
      "source": [
        "pd.DataFrame(history.history).plot()\n",
        "plt.title(\"training_2 \")"
      ],
      "execution_count": 16,
      "outputs": [
        {
          "output_type": "execute_result",
          "data": {
            "text/plain": [
              "Text(0.5, 1.0, 'training_2 ')"
            ]
          },
          "metadata": {},
          "execution_count": 16
        },
        {
          "output_type": "display_data",
          "data": {
            "image/png": "[encoded data removed]",
            "text/plain": [
              "<Figure size 432x288 with 1 Axes>"
            ]
          },
          "metadata": {
            "needs_background": "light"
          }
        }
      ]
    }
  ]
}